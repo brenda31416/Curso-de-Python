{
  "cells": [
    {
      "cell_type": "markdown",
      "metadata": {
        "id": "view-in-github",
        "colab_type": "text"
      },
      "source": [
        "<a href=\"https://colab.research.google.com/github/brenda31416/Curso-de-Python/blob/main/2022_08_16_funciones.ipynb\" target=\"_parent\"><img src=\"https://colab.research.google.com/assets/colab-badge.svg\" alt=\"Open In Colab\"/></a>"
      ]
    },
    {
      "cell_type": "markdown",
      "metadata": {
        "id": "Z7UcQNw0Ruj5"
      },
      "source": [
        "Funciones\n",
        "=========\n",
        "\n",
        "**Date:** 2022-02-09\n",
        "\n"
      ]
    },
    {
      "cell_type": "markdown",
      "metadata": {
        "id": "GltGYjzsRuj7"
      },
      "source": [
        "## Funciones\n",
        "\n"
      ]
    },
    {
      "cell_type": "code",
      "execution_count": 6,
      "metadata": {
        "colab": {
          "base_uri": "https://localhost:8080/"
        },
        "id": "fCYo9ypyRuj9",
        "outputId": "8c24f030-d78e-4932-a87f-a02555457862"
      },
      "outputs": [
        {
          "output_type": "execute_result",
          "data": {
            "text/plain": [
              "['Juan Diego', 'Verania', 'Rosa', 'Yessica', 'Karen', 'Uriel', 'Ruth']"
            ]
          },
          "metadata": {},
          "execution_count": 6
        }
      ],
      "source": [
        "inscritos = [\"Juan Diego\", \"Verania\", \"Rosa\", \"Yessica\", \"Karen\"]\n",
        "oyentes = [\"Uriel\", \"Ruth\"]\n",
        "estudiantes = inscritos + oyentes\n",
        "estudiantes"
      ]
    },
    {
      "cell_type": "code",
      "execution_count": 1,
      "metadata": {
        "colab": {
          "base_uri": "https://localhost:8080/"
        },
        "id": "O4vTk-AVRuj_",
        "outputId": "1bf98e82-fd21-40c2-858c-7857c2bf2bd8"
      },
      "outputs": [
        {
          "output_type": "execute_result",
          "data": {
            "text/plain": [
              "49"
            ]
          },
          "metadata": {},
          "execution_count": 1
        }
      ],
      "source": [
        "cuadrado = 25\n",
        "\n",
        "def cuadrado(n):\n",
        "    return n**2\n",
        "\n",
        "cuadrado(7)"
      ]
    },
    {
      "cell_type": "code",
      "execution_count": 4,
      "metadata": {
        "colab": {
          "base_uri": "https://localhost:8080/"
        },
        "id": "ulsBVMvbRukA",
        "outputId": "c6536727-8aec-4cf1-f3bf-e81a43adf488"
      },
      "outputs": [
        {
          "output_type": "execute_result",
          "data": {
            "text/plain": [
              "('¡Hola, Brenda! ¿Cómo estás?', '¿Qué materias llevas, Brenda?')"
            ]
          },
          "metadata": {},
          "execution_count": 4
        }
      ],
      "source": [
        "def saludo(persona):\n",
        "    return \"¡Hola, \" + persona + \"! ¿Cómo estás?\"\n",
        "\n",
        "def materias(persona):\n",
        "    return \"¿Qué materias llevas, \" + persona + \"?\"\n",
        "\n",
        "saludo(\"Brenda\"),materias(\"Brenda\")"
      ]
    },
    {
      "cell_type": "code",
      "execution_count": 7,
      "metadata": {
        "colab": {
          "base_uri": "https://localhost:8080/"
        },
        "id": "c4dn394bRukB",
        "outputId": "4dd42bf2-da83-4070-ba01-96fa1a4e5673"
      },
      "outputs": [
        {
          "output_type": "stream",
          "name": "stdout",
          "text": [
            "¡Hola, Juan Diego! ¿Cómo estás?\n",
            "¿Qué materias llevas, Juan Diego?\n",
            "\n",
            "¡Hola, Verania! ¿Cómo estás?\n",
            "¿Qué materias llevas, Verania?\n",
            "\n",
            "¡Hola, Rosa! ¿Cómo estás?\n",
            "¿Qué materias llevas, Rosa?\n",
            "\n",
            "¡Hola, Yessica! ¿Cómo estás?\n",
            "¿Qué materias llevas, Yessica?\n",
            "\n",
            "¡Hola, Karen! ¿Cómo estás?\n",
            "¿Qué materias llevas, Karen?\n",
            "\n",
            "¡Hola, Uriel! ¿Cómo estás?\n",
            "¿Qué materias llevas, Uriel?\n",
            "\n",
            "¡Hola, Ruth! ¿Cómo estás?\n",
            "¿Qué materias llevas, Ruth?\n",
            "\n"
          ]
        }
      ],
      "source": [
        "for estudiante in estudiantes:\n",
        "    print(saludo(estudiante))\n",
        "    print(materias(estudiante))\n",
        "    print()"
      ]
    },
    {
      "cell_type": "code",
      "execution_count": 11,
      "metadata": {
        "colab": {
          "base_uri": "https://localhost:8080/"
        },
        "id": "qOAVQ2F4RukC",
        "outputId": "cbf2d611-087a-4153-e456-17b3e986a001"
      },
      "outputs": [
        {
          "output_type": "execute_result",
          "data": {
            "text/plain": [
              "[0, 1, 1, 2, 3, 5, 8, 13, 21, 34, 55, 89, 144, 233, 377, 610, 987]"
            ]
          },
          "metadata": {},
          "execution_count": 11
        }
      ],
      "source": [
        "def cuadrados_fibonacci(n):\n",
        "    fibs = []\n",
        "    a, b = 0, 1\n",
        "    while a < n:\n",
        "        fibs.append(a)\n",
        "        a, b = b, a+b\n",
        "    return fibs\n",
        "\n",
        "cuadrados_fibonacci(1000)"
      ]
    },
    {
      "cell_type": "code",
      "execution_count": 12,
      "metadata": {
        "colab": {
          "base_uri": "https://localhost:8080/"
        },
        "id": "5yrTyJZnRukC",
        "outputId": "66d43e4f-07d3-42a1-a9fb-45382827798b"
      },
      "outputs": [
        {
          "output_type": "execute_result",
          "data": {
            "text/plain": [
              "[0, 1, 4, 9, 16, 25, 36, 49, 64, 81, 100]"
            ]
          },
          "metadata": {},
          "execution_count": 12
        }
      ],
      "source": [
        "def cuadrados(n):\n",
        "    cua = []\n",
        "    for i in range(n):\n",
        "        if i**2 <= n:\n",
        "            cua.append(i**2)\n",
        "        else:\n",
        "            break\n",
        "    return cua\n",
        "\n",
        "cuadrados(100)"
      ]
    },
    {
      "cell_type": "code",
      "execution_count": 13,
      "metadata": {
        "colab": {
          "base_uri": "https://localhost:8080/"
        },
        "id": "DyO-AApuRukD",
        "outputId": "db422454-619d-44e1-cb4f-020c6b6d43cb"
      },
      "outputs": [
        {
          "output_type": "execute_result",
          "data": {
            "text/plain": [
              "4"
            ]
          },
          "metadata": {},
          "execution_count": 13
        }
      ],
      "source": [
        "int(4.999999999)"
      ]
    },
    {
      "cell_type": "code",
      "execution_count": 14,
      "metadata": {
        "colab": {
          "base_uri": "https://localhost:8080/"
        },
        "id": "k0Rbwwe0RukE",
        "outputId": "336b2e55-5c08-478b-c258-d51069149eb3"
      },
      "outputs": [
        {
          "output_type": "execute_result",
          "data": {
            "text/plain": [
              "(True, False, True)"
            ]
          },
          "metadata": {},
          "execution_count": 14
        }
      ],
      "source": [
        "from sympy import sqrt\n",
        "\n",
        "def es_cuadrado(n):\n",
        "    if int(sqrt(n)) ** 2 == n:\n",
        "        return True\n",
        "    else:\n",
        "        return False\n",
        "\n",
        "es_cuadrado(25), es_cuadrado(20), es_cuadrado(99999999222222222**2)"
      ]
    },
    {
      "cell_type": "code",
      "execution_count": 24,
      "metadata": {
        "colab": {
          "base_uri": "https://localhost:8080/"
        },
        "id": "LiuMH5HpRukE",
        "outputId": "cf822b3c-66a5-4434-e612-1266a43dfad5"
      },
      "outputs": [
        {
          "output_type": "execute_result",
          "data": {
            "text/plain": [
              "[0, 1, 1, 144]"
            ]
          },
          "metadata": {},
          "execution_count": 24
        }
      ],
      "source": [
        "from sympy import sqrt\n",
        "\n",
        "def es_cuadrado(n):\n",
        "    return int(sqrt(n)) ** 2 == n\n",
        "\n",
        "def cuadrados_fibonacci(n):\n",
        "    fibs = []\n",
        "    a, b = 0, 1\n",
        "    while a < n:\n",
        "        if es_cuadrado(a):\n",
        "            fibs.append(a)\n",
        "        a, b = b, a+b\n",
        "    return fibs\n",
        "\n",
        "cuadrados_fibonacci(10000000000000)"
      ]
    },
    {
      "cell_type": "code",
      "execution_count": 25,
      "metadata": {
        "colab": {
          "base_uri": "https://localhost:8080/"
        },
        "id": "Yv4gow0zRukF",
        "outputId": "757ddb5d-8888-4a09-8adf-555b2bcdd37d"
      },
      "outputs": [
        {
          "output_type": "stream",
          "name": "stdout",
          "text": [
            "-- ¡Qué milagro que viene por aquí!\n",
            "-- Vine a traerle este humilde obsequio\n",
            "-- ¿No quiere pasar a tomar una tacita de café?\n"
          ]
        }
      ],
      "source": [
        "def diálogo(evento, objeto, bebida):\n",
        "    print(f\"-- ¡Qué {evento} que viene por aquí!\")\n",
        "    print(f\"-- Vine a traerle este humilde {objeto}\")\n",
        "    print(f\"-- ¿No quiere pasar a tomar {bebida}?\")\n",
        "\n",
        "diálogo(\"milagro\", \"obsequio\", \"una tacita de café\")"
      ]
    },
    {
      "cell_type": "code",
      "execution_count": 26,
      "metadata": {
        "colab": {
          "base_uri": "https://localhost:8080/"
        },
        "id": "B5ZVk6D3RukF",
        "outputId": "4cd6aafa-490f-4125-d2ae-19b6c20f4e9c"
      },
      "outputs": [
        {
          "output_type": "stream",
          "name": "stdout",
          "text": [
            "-- ¡Qué casualidad que viene por aquí!\n",
            "-- Vine a traerle este humilde regalo\n",
            "-- ¿No quiere pasar a tomar un té?\n"
          ]
        }
      ],
      "source": [
        "diálogo(\"casualidad\", \"regalo\", \"un té\")"
      ]
    },
    {
      "cell_type": "code",
      "execution_count": 27,
      "metadata": {
        "colab": {
          "base_uri": "https://localhost:8080/"
        },
        "id": "OYqACdtKRukF",
        "outputId": "1e844ad1-4374-4079-ed3f-357d7dfa56aa"
      },
      "outputs": [
        {
          "output_type": "stream",
          "name": "stdout",
          "text": [
            "-- ¡Qué milagro que viene por aquí!\n",
            "-- Vine a traerle este humilde obsequio\n",
            "-- ¿No quiere pasar a tomar una tacita de café?\n"
          ]
        }
      ],
      "source": [
        "def diálogo(evento=\"milagro\", objeto=\"obsequio\", bebida=\"una tacita de café\"):\n",
        "    print(f\"-- ¡Qué {evento} que viene por aquí!\")\n",
        "    print(f\"-- Vine a traerle este humilde {objeto}\")\n",
        "    print(f\"-- ¿No quiere pasar a tomar {bebida}?\")\n",
        "\n",
        "diálogo()"
      ]
    },
    {
      "cell_type": "code",
      "execution_count": 28,
      "metadata": {
        "colab": {
          "base_uri": "https://localhost:8080/"
        },
        "id": "hzRa0T0dRukG",
        "outputId": "25e9e1ee-dca3-4413-d72a-45e80da173ea"
      },
      "outputs": [
        {
          "output_type": "stream",
          "name": "stdout",
          "text": [
            "-- ¡Qué casualidad que viene por aquí!\n",
            "-- Vine a traerle este humilde regalo\n",
            "-- ¿No quiere pasar a tomar un té?\n"
          ]
        }
      ],
      "source": [
        "diálogo(\"casualidad\", \"regalo\", \"un té\")"
      ]
    },
    {
      "cell_type": "code",
      "execution_count": 29,
      "metadata": {
        "colab": {
          "base_uri": "https://localhost:8080/"
        },
        "id": "LTQ9j22hRukG",
        "outputId": "e35e61be-1151-4377-f323-9eb61d410d80"
      },
      "outputs": [
        {
          "output_type": "stream",
          "name": "stdout",
          "text": [
            "-- ¡Qué sorpresa que viene por aquí!\n",
            "-- Vine a traerle este humilde presente\n",
            "-- ¿No quiere pasar a tomar atole?\n"
          ]
        }
      ],
      "source": [
        "diálogo(bebida=\"atole\", evento=\"sorpresa\", objeto=\"presente\")"
      ]
    },
    {
      "cell_type": "code",
      "execution_count": 30,
      "metadata": {
        "colab": {
          "base_uri": "https://localhost:8080/"
        },
        "id": "5uHw2nujRukG",
        "outputId": "a2a11287-c75f-44ad-a125-350a486d8f28"
      },
      "outputs": [
        {
          "output_type": "stream",
          "name": "stdout",
          "text": [
            "-- ¡Qué milagro que viene por aquí!\n",
            "-- Vine a traerle este humilde obsequio\n",
            "-- ¿No quiere pasar a tomar un refresco?\n"
          ]
        }
      ],
      "source": [
        "diálogo(bebida=\"un refresco\")"
      ]
    },
    {
      "cell_type": "code",
      "execution_count": 31,
      "metadata": {
        "colab": {
          "base_uri": "https://localhost:8080/"
        },
        "id": "ziXwKubURukG",
        "outputId": "19100732-ad58-4028-ba65-4b797423be41"
      },
      "outputs": [
        {
          "output_type": "stream",
          "name": "stdout",
          "text": [
            "-- ¡Qué coincidencia que viene por aquí!\n",
            "-- Vine a traerle este humilde obsequio\n",
            "-- ¿No quiere pasar a tomar una tacita de café?\n"
          ]
        }
      ],
      "source": [
        "def diálogo(evento, objeto=\"obsequio\", bebida=\"una tacita de café\"):\n",
        "    print(f\"-- ¡Qué {evento} que viene por aquí!\")\n",
        "    print(f\"-- Vine a traerle este humilde {objeto}\")\n",
        "    print(f\"-- ¿No quiere pasar a tomar {bebida}?\")\n",
        "\n",
        "diálogo(\"coincidencia\")"
      ]
    },
    {
      "cell_type": "code",
      "execution_count": 32,
      "metadata": {
        "colab": {
          "base_uri": "https://localhost:8080/"
        },
        "id": "R5CIKA-jRukH",
        "outputId": "ebee9016-392a-4097-e529-dd3b944eb932"
      },
      "outputs": [
        {
          "output_type": "stream",
          "name": "stdout",
          "text": [
            "-- ¡Qué coincidencia que viene por aquí!\n",
            "-- Vine a traerle este humilde obsequio\n",
            "-- ¿No quiere pasar a tomar una copita?\n"
          ]
        }
      ],
      "source": [
        "diálogo(\"coincidencia\", bebida=\"una copita\")"
      ]
    },
    {
      "cell_type": "markdown",
      "metadata": {
        "id": "GJvH8tn1RukH"
      },
      "source": [
        "## Ejemplo práctico\n",
        "\n"
      ]
    },
    {
      "cell_type": "code",
      "execution_count": 33,
      "metadata": {
        "colab": {
          "base_uri": "https://localhost:8080/"
        },
        "id": "jKRRSz8wRukH",
        "outputId": "425e50c6-19b0-4ec9-bdbc-85021d60b737"
      },
      "outputs": [
        {
          "output_type": "execute_result",
          "data": {
            "text/plain": [
              "[0, 1, 4, 9, 16, 25, 36, 49, 64, 81, 100]"
            ]
          },
          "metadata": {},
          "execution_count": 33
        }
      ],
      "source": [
        "def cuadrados(n):\n",
        "    cua = []\n",
        "    for i in range(n):\n",
        "        if i**2 <= n:\n",
        "            cua.append(i**2)\n",
        "        else:\n",
        "            break\n",
        "    return cua\n",
        "\n",
        "cuadrados(100)"
      ]
    },
    {
      "cell_type": "code",
      "execution_count": 34,
      "metadata": {
        "colab": {
          "base_uri": "https://localhost:8080/"
        },
        "id": "oApRfNzxRukH",
        "outputId": "03280199-a5cb-48d1-8076-7e8d6042f3e4"
      },
      "outputs": [
        {
          "output_type": "execute_result",
          "data": {
            "text/plain": [
              "[25, 36, 49, 64, 81, 100]"
            ]
          },
          "metadata": {},
          "execution_count": 34
        }
      ],
      "source": [
        "def cuadrados(n, inferior=0):\n",
        "    cua = []\n",
        "    for i in range(n):\n",
        "        if inferior <= i**2 <= n:\n",
        "            cua.append(i**2)\n",
        "        elif i**2 > n:\n",
        "            break\n",
        "    return cua\n",
        "\n",
        "cuadrados(100, inferior=24)"
      ]
    },
    {
      "cell_type": "code",
      "execution_count": 36,
      "metadata": {
        "colab": {
          "base_uri": "https://localhost:8080/",
          "height": 35
        },
        "id": "Fco2Nz4RRukH",
        "outputId": "471ca10c-480e-4ffb-b136-e365945bc047"
      },
      "outputs": [
        {
          "output_type": "execute_result",
          "data": {
            "text/plain": [
              "'Que tal Brenda'"
            ],
            "application/vnd.google.colaboratory.intrinsic+json": {
              "type": "string"
            }
          },
          "metadata": {},
          "execution_count": 36
        }
      ],
      "source": [
        "def saludador(saludo):\n",
        "    def tttttttttttt(persona):\n",
        "        return saludo + \" \" + persona\n",
        "    return tttttttttttt\n",
        "\n",
        "f = saludador(\"Que tal\")\n",
        "f(\"Brenda\")"
      ]
    },
    {
      "cell_type": "code",
      "execution_count": 37,
      "metadata": {
        "colab": {
          "base_uri": "https://localhost:8080/",
          "height": 35
        },
        "id": "vynmWX39RukH",
        "outputId": "ecc3b6f6-ef9f-405c-d5cb-1a8767594404"
      },
      "outputs": [
        {
          "output_type": "execute_result",
          "data": {
            "text/plain": [
              "'Que tal Yessica'"
            ],
            "application/vnd.google.colaboratory.intrinsic+json": {
              "type": "string"
            }
          },
          "metadata": {},
          "execution_count": 37
        }
      ],
      "source": [
        "g = saludador(\"Que tal\")\n",
        "g(\"Yessica\")"
      ]
    },
    {
      "cell_type": "markdown",
      "metadata": {
        "id": "PiCqx8RyRukI"
      },
      "source": [
        "## Tarea\n",
        "\n"
      ]
    },
    {
      "cell_type": "markdown",
      "metadata": {
        "id": "Oef5vfKKRukI"
      },
      "source": [
        "Escribir una función que tenga un argumento obligatorio $n$ y un argumento opcional $pot$, y que regrese los números de fibonacci menores que $n$ que sean una potencia $pot$ exacta.\n",
        "\n"
      ]
    },
    {
      "cell_type": "code",
      "source": [
        "from sympy import sqrt\n",
        "\n",
        "def es_potencia(n,pot=2):\n",
        "    return int(pow(n,1/pot)) ** pot == n\n",
        "\n",
        "def potencias_fibonacci(n, pot=2):\n",
        "    fibs = []\n",
        "    a, b = 0, 1\n",
        "    while a < n:\n",
        "        if es_potencia(a,pot):\n",
        "            fibs.append(a)\n",
        "        a, b = b, a+b\n",
        "    return fibs\n",
        "\n",
        "potencias_fibonacci(10000000000000,3)"
      ],
      "metadata": {
        "colab": {
          "base_uri": "https://localhost:8080/"
        },
        "id": "BRPHl8yUa6QC",
        "outputId": "27fbdf11-309d-4409-c1b1-ee1a0bee7a63"
      },
      "execution_count": 44,
      "outputs": [
        {
          "output_type": "execute_result",
          "data": {
            "text/plain": [
              "[0, 1, 1, 8]"
            ]
          },
          "metadata": {},
          "execution_count": 44
        }
      ]
    },
    {
      "cell_type": "markdown",
      "metadata": {
        "id": "y0Mq87HtRukI"
      },
      "source": [
        "## Documentación de las funciones y funciones anónimas\n",
        "\n"
      ]
    },
    {
      "cell_type": "code",
      "execution_count": null,
      "metadata": {
        "id": "OXCn8iYMRukI"
      },
      "outputs": [],
      "source": [
        "def saludador(saludo=\"Hola\"):\n",
        "    \"\"\"Una función que regresa funciones saludadoras.\"\"\"\n",
        "    return lambda persona: saludo + \" \" + persona\n",
        "\n",
        "help(saludador)"
      ]
    },
    {
      "cell_type": "code",
      "execution_count": null,
      "metadata": {
        "id": "owzSpLFgRukI"
      },
      "outputs": [],
      "source": [
        "g = saludador(\"Que tal\")\n",
        "g(\"Karen\")"
      ]
    },
    {
      "cell_type": "code",
      "execution_count": null,
      "metadata": {
        "id": "L1gGPOfrRukI"
      },
      "outputs": [],
      "source": [
        "fun = lambda x: x**2\n",
        "\n",
        "fun(4)"
      ]
    },
    {
      "cell_type": "markdown",
      "metadata": {
        "id": "tJeYXTbORukJ"
      },
      "source": [
        "## Copia superficial\n",
        "\n"
      ]
    },
    {
      "cell_type": "markdown",
      "metadata": {
        "id": "hB7hjIAXRukJ"
      },
      "source": [
        "En inglés se llama *shallow copy*.\n",
        "\n"
      ]
    },
    {
      "cell_type": "code",
      "execution_count": null,
      "metadata": {
        "id": "WxVr-z5jRukJ"
      },
      "outputs": [],
      "source": [
        "estudiantes"
      ]
    },
    {
      "cell_type": "code",
      "execution_count": null,
      "metadata": {
        "id": "No7nrcp0RukJ"
      },
      "outputs": [],
      "source": [
        "alumnos = estudiantes\n",
        "alumnos.append(\"Nuevo\")\n",
        "alumnos"
      ]
    },
    {
      "cell_type": "code",
      "execution_count": null,
      "metadata": {
        "id": "MXAdTSL1RukJ"
      },
      "outputs": [],
      "source": [
        "estudiantes"
      ]
    },
    {
      "cell_type": "code",
      "execution_count": null,
      "metadata": {
        "id": "-0qjHq_hRukK"
      },
      "outputs": [],
      "source": [
        "a = 1\n",
        "b = a\n",
        "b = b+1\n",
        "b"
      ]
    },
    {
      "cell_type": "code",
      "execution_count": null,
      "metadata": {
        "id": "KDwe5pIERukK"
      },
      "outputs": [],
      "source": [
        "a"
      ]
    },
    {
      "cell_type": "markdown",
      "metadata": {
        "id": "xA1Jx30ZRukK"
      },
      "source": [
        "### Más métodos del tipo lista\n",
        "\n"
      ]
    },
    {
      "cell_type": "code",
      "execution_count": null,
      "metadata": {
        "id": "JmSLg-CyRukK"
      },
      "outputs": [],
      "source": [
        "alumnos.pop()"
      ]
    },
    {
      "cell_type": "code",
      "execution_count": null,
      "metadata": {
        "id": "pPMVotk8RukK"
      },
      "outputs": [],
      "source": [
        "alumnos"
      ]
    },
    {
      "cell_type": "code",
      "execution_count": null,
      "metadata": {
        "id": "ohM41jJ4RukK"
      },
      "outputs": [],
      "source": [
        "estudiantes"
      ]
    },
    {
      "cell_type": "code",
      "execution_count": null,
      "metadata": {
        "id": "DpL1G000RukK"
      },
      "outputs": [],
      "source": [
        "alumnos2 = estudiantes.copy()\n",
        "alumnos2"
      ]
    },
    {
      "cell_type": "code",
      "execution_count": null,
      "metadata": {
        "id": "vVHWbMyURukL"
      },
      "outputs": [],
      "source": [
        "alumnos2.append(\"Nuevo\")\n",
        "alumnos2"
      ]
    },
    {
      "cell_type": "code",
      "execution_count": null,
      "metadata": {
        "id": "IJLXhg0MRukL"
      },
      "outputs": [],
      "source": [
        "estudiantes"
      ]
    }
  ],
  "metadata": {
    "kernelspec": {
      "display_name": "Python 3",
      "language": "python",
      "name": "python3"
    },
    "language_info": {
      "codemirror_mode": {
        "name": "ipython",
        "version": 3
      },
      "file_extension": ".py",
      "mimetype": "text/x-python",
      "name": "python",
      "nbconvert_exporter": "python",
      "pygments_lexer": "ipython3",
      "version": "3.9.2"
    },
    "org": null,
    "colab": {
      "provenance": [],
      "include_colab_link": true
    }
  },
  "nbformat": 4,
  "nbformat_minor": 0
}