{
  "nbformat": 4,
  "nbformat_minor": 0,
  "metadata": {
    "colab": {
      "provenance": [],
      "authorship_tag": "ABX9TyO/7V4HqMPh1tVt99Y6owz0",
      "include_colab_link": true
    },
    "kernelspec": {
      "name": "python3",
      "display_name": "Python 3"
    },
    "language_info": {
      "name": "python"
    }
  },
  "cells": [
    {
      "cell_type": "markdown",
      "metadata": {
        "id": "view-in-github",
        "colab_type": "text"
      },
      "source": [
        "<a href=\"https://colab.research.google.com/github/brenda31416/Curso-de-Python/blob/main/Conjunto_cero.ipynb\" target=\"_parent\"><img src=\"https://colab.research.google.com/assets/colab-badge.svg\" alt=\"Open In Colab\"/></a>"
      ]
    },
    {
      "cell_type": "markdown",
      "source": [
        "Define una función tal que, dado un conjunto de números enteros, regrese dos subconjuntos diferentes del conjunto tal que la suma de los elementos de los subconjuntos sea la misma. Si no existen tales conjuntos, la función debe regresar False."
      ],
      "metadata": {
        "id": "HWyB-kGFUID-"
      }
    },
    {
      "cell_type": "code",
      "source": [
        "from random import randint\n",
        "\n",
        "def crea_conjunto(cantidad, rango):\n",
        "    \"\"\"Función que crea un conjunto con cantidad de enteros aleatorios entre -rango y rango\"\"\"\n",
        "    conjunto ={randint(-rango, rango) for i in range(cantidad)}\n",
        "    return conjunto\n",
        "\n",
        "A = crea_conjunto(10, 100)\n",
        "A"
      ],
      "metadata": {
        "colab": {
          "base_uri": "https://localhost:8080/"
        },
        "id": "7bReHMgfUJmm",
        "outputId": "c3b3210e-e3c4-44da-a79b-39752a320e46"
      },
      "execution_count": null,
      "outputs": [
        {
          "output_type": "execute_result",
          "data": {
            "text/plain": [
              "{-41, 8, 23, 24, 31, 34, 61, 76, 89}"
            ]
          },
          "metadata": {},
          "execution_count": 1
        }
      ]
    },
    {
      "cell_type": "code",
      "source": [
        "from itertools import combinations\n",
        "\n",
        "def todos_subconjuntos(conjunto):\n",
        "    \"\"\"Función que crea el conjunto potencia del conjunto\"\"\"\n",
        "        todos = []\n",
        "        for i in range(1, len(conjunto)+1):\n",
        "            for subconjunto in combinations(conjunto, i):\n",
        "                todos.append(set(subconjunto))\n",
        "        return todos\n",
        "\n",
        "def subconjuntos(conjunto):\n",
        "    C = todos_subconjuntos(conjunto)\n",
        "    for i in range(1,C):\n",
        "        C1 = C[1]\n",
        "        if sum(sub) == 0:\n",
        "            return sub\n",
        "    return False\n",
        "\n",
        "extrae_subconjunto(A)"
      ],
      "metadata": {
        "id": "94fhT3YXUQbI"
      },
      "execution_count": null,
      "outputs": []
    }
  ]
}