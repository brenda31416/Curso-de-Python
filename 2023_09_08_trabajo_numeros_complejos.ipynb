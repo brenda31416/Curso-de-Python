{
  "nbformat": 4,
  "nbformat_minor": 0,
  "metadata": {
    "colab": {
      "provenance": [],
      "authorship_tag": "ABX9TyO21MLHzgRuiqBVfhfpOuG8",
      "include_colab_link": true
    },
    "kernelspec": {
      "name": "python3",
      "display_name": "Python 3"
    },
    "language_info": {
      "name": "python"
    }
  },
  "cells": [
    {
      "cell_type": "markdown",
      "metadata": {
        "id": "view-in-github",
        "colab_type": "text"
      },
      "source": [
        "<a href=\"https://colab.research.google.com/github/brenda31416/Curso-de-Python/blob/main/2023_09_08_trabajo_numeros_complejos.ipynb\" target=\"_parent\"><img src=\"https://colab.research.google.com/assets/colab-badge.svg\" alt=\"Open In Colab\"/></a>"
      ]
    },
    {
      "cell_type": "markdown",
      "source": [
        "Vamos a definir una clase para números complejos y a implementar la resta y multiplicación con los métodos __sub__ y __mul__, respectivamente para usar los operadores `*`, `+`\n",
        "\n",
        "\n"
      ],
      "metadata": {
        "id": "jdepBFe-EP5J"
      }
    },
    {
      "cell_type": "code",
      "source": [
        "class Complex:\n",
        "    def __init__(self, real_part, imaginary_part):\n",
        "        self.r = real_part\n",
        "        self.i = imaginary_part\n",
        "\n",
        "    def __repr__(self):\n",
        "        return f\"Complex({self.r}, {self.i})\"\n",
        "\n",
        "    def __sub__(self, other):\n",
        "        return Complex(self.r - other.r, self.i - other.i)\n",
        "\n",
        "    def __mul__(self, other):\n",
        "        return Complex(self.r*other.r-self.i*other.i, self.r*other.i\\\n",
        "                       +self.i*other.r)"
      ],
      "metadata": {
        "id": "2fdtXhnXENxV"
      },
      "execution_count": null,
      "outputs": []
    },
    {
      "cell_type": "code",
      "source": [
        "x = Complex(1,4)\n",
        "y = Complex(5,1)\n",
        "x-y, x*y"
      ],
      "metadata": {
        "colab": {
          "base_uri": "https://localhost:8080/"
        },
        "id": "1hKZ5K2WDeQm",
        "outputId": "d9af6016-be1f-488f-c060-f54da83765dd"
      },
      "execution_count": 4,
      "outputs": [
        {
          "output_type": "execute_result",
          "data": {
            "text/plain": [
              "(Complex(-4, 3), Complex(1, 21))"
            ]
          },
          "metadata": {},
          "execution_count": 4
        }
      ]
    }
  ]
}