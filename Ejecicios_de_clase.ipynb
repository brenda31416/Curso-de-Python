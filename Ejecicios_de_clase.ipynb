{
  "nbformat": 4,
  "nbformat_minor": 0,
  "metadata": {
    "colab": {
      "provenance": [],
      "authorship_tag": "ABX9TyNPH07z6O46E41I8qWklZKA",
      "include_colab_link": true
    },
    "kernelspec": {
      "name": "python3",
      "display_name": "Python 3"
    },
    "language_info": {
      "name": "python"
    }
  },
  "cells": [
    {
      "cell_type": "markdown",
      "metadata": {
        "id": "view-in-github",
        "colab_type": "text"
      },
      "source": [
        "<a href=\"https://colab.research.google.com/github/brenda31416/Curso-de-Python/blob/main/Ejecicios_de_clase.ipynb\" target=\"_parent\"><img src=\"https://colab.research.google.com/assets/colab-badge.svg\" alt=\"Open In Colab\"/></a>"
      ]
    },
    {
      "cell_type": "markdown",
      "source": [
        "Define una clase que llame `Perro`, que tenga un atributo nombre y un método sonido (sin argumentos). Cuando se corra el método sonido en una instancia de la clase Perro, se debe regresar la cadena \"Guau\". Hacer una clase Gato análoga."
      ],
      "metadata": {
        "id": "Xtd_qzJJXgJC"
      }
    },
    {
      "cell_type": "code",
      "source": [
        "class Perro:\n",
        "    def __init__(self, nombre, dueño):\n",
        "        self.nombre = nombre\n",
        "        self.dueño = dueño\n",
        "\n",
        "    def sonido(self):\n",
        "        return 'Guau'\n",
        "\n",
        "    def __repr__(self):\n",
        "        return f'Es un perro llamado {self.nombre} que hace {self.sonido()}'\n",
        "\n",
        "perro1 = Perro('Beto','Juan')\n",
        "perro1.nombre, perro1.sonido(), perro1.dueño\n"
      ],
      "metadata": {
        "colab": {
          "base_uri": "https://localhost:8080/"
        },
        "id": "yBVUHDwzXkcb",
        "outputId": "14eefd87-3b47-42fe-8c16-6d7663546b01"
      },
      "execution_count": 19,
      "outputs": [
        {
          "output_type": "execute_result",
          "data": {
            "text/plain": [
              "('Beto', 'Guau', 'Juan')"
            ]
          },
          "metadata": {},
          "execution_count": 19
        }
      ]
    },
    {
      "cell_type": "code",
      "source": [
        "\"Perro\" in str(type(perro1))"
      ],
      "metadata": {
        "colab": {
          "base_uri": "https://localhost:8080/"
        },
        "id": "BPwhcgBkaIpp",
        "outputId": "ac9630e4-7c06-49ba-a8fc-4e27edea6b18"
      },
      "execution_count": 25,
      "outputs": [
        {
          "output_type": "execute_result",
          "data": {
            "text/plain": [
              "True"
            ]
          },
          "metadata": {},
          "execution_count": 25
        }
      ]
    },
    {
      "cell_type": "code",
      "source": [
        "perro2 = Perro('Firulais')\n",
        "perro2.nombre, perro2.sonido()"
      ],
      "metadata": {
        "colab": {
          "base_uri": "https://localhost:8080/"
        },
        "id": "Tw6x6xlRZjXA",
        "outputId": "05f72a95-dbc1-4e9b-b2de-ea34f6f4c0ec"
      },
      "execution_count": 7,
      "outputs": [
        {
          "output_type": "execute_result",
          "data": {
            "text/plain": [
              "('Firulais', 'Guau')"
            ]
          },
          "metadata": {},
          "execution_count": 7
        }
      ]
    },
    {
      "cell_type": "code",
      "source": [
        "class Gato:\n",
        "    def __init__(self, nombre):\n",
        "        self.nombre = nombre\n",
        "\n",
        "    def sonido(self):\n",
        "        return 'Miau'\n",
        "\n",
        "    def __repr__(self):\n",
        "        return f'Es un gato llamado {self.nombre} que hace {self.sonido()}'\n",
        "\n",
        "gato1 = Gato('Mantequilla')\n",
        "gato1.nombre, gato1.sonido()"
      ],
      "metadata": {
        "colab": {
          "base_uri": "https://localhost:8080/"
        },
        "id": "hZStqqrdaPyc",
        "outputId": "14277f36-8760-49f4-c699-8bb4e5507ead"
      },
      "execution_count": 17,
      "outputs": [
        {
          "output_type": "execute_result",
          "data": {
            "text/plain": [
              "('Mantequilla', 'Miau')"
            ]
          },
          "metadata": {},
          "execution_count": 17
        }
      ]
    },
    {
      "cell_type": "code",
      "source": [
        "gato1"
      ],
      "metadata": {
        "colab": {
          "base_uri": "https://localhost:8080/"
        },
        "id": "AOZuEGwsb-Z7",
        "outputId": "171e8966-ee98-4f05-852b-1e542be8a00e"
      },
      "execution_count": 18,
      "outputs": [
        {
          "output_type": "execute_result",
          "data": {
            "text/plain": [
              "Es un gato llamado Mantequilla que hace Miau"
            ]
          },
          "metadata": {},
          "execution_count": 18
        }
      ]
    },
    {
      "cell_type": "code",
      "source": [
        "def tipo(a):\n",
        "        if type(a) == Perro:\n",
        "            return 'Este animal es un perro'\n",
        "        if type(a) == Gato:\n",
        "            return 'Este animal es un gato'\n",
        "\n",
        "tipo(gato1)"
      ],
      "metadata": {
        "colab": {
          "base_uri": "https://localhost:8080/",
          "height": 35
        },
        "id": "njfs4P9ycGFy",
        "outputId": "c149b030-e48a-41b9-b35c-d753c6c7b6ee"
      },
      "execution_count": 23,
      "outputs": [
        {
          "output_type": "execute_result",
          "data": {
            "text/plain": [
              "'Este animal es un gato'"
            ],
            "application/vnd.google.colaboratory.intrinsic+json": {
              "type": "string"
            }
          },
          "metadata": {},
          "execution_count": 23
        }
      ]
    }
  ]
}