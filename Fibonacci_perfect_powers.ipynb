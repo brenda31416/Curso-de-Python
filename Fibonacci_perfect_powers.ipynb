{
  "nbformat": 4,
  "nbformat_minor": 0,
  "metadata": {
    "colab": {
      "provenance": [],
      "authorship_tag": "ABX9TyMI+O2jORSMVi1/ARgER+4C",
      "include_colab_link": true
    },
    "kernelspec": {
      "name": "python3",
      "display_name": "Python 3"
    },
    "language_info": {
      "name": "python"
    }
  },
  "cells": [
    {
      "cell_type": "markdown",
      "metadata": {
        "id": "view-in-github",
        "colab_type": "text"
      },
      "source": [
        "<a href=\"https://colab.research.google.com/github/brenda31416/Curso-de-Python/blob/main/Fibonacci_perfect_powers.ipynb\" target=\"_parent\"><img src=\"https://colab.research.google.com/assets/colab-badge.svg\" alt=\"Open In Colab\"/></a>"
      ]
    },
    {
      "cell_type": "markdown",
      "source": [
        "¿Qué números de Fibonacci menores que 10^20 son cuadrados perfectos? ¿Qué números de Fibonacci menores que 10^20 son cubos perfectos? ¿Qué números de Fibonacci menores que 10^20 son cuartas potencias perfectos? El siguiente código nos ayuda a encontrar estos números de manera experimental cambiando el argumento pot de la función\n",
        "\n"
      ],
      "metadata": {
        "id": "nGpwI8llIwst"
      }
    },
    {
      "cell_type": "code",
      "source": [
        "from sympy import sqrt\n",
        "\n",
        "def es_potencia(n,pot=2):\n",
        "    return int(pow(n,1/pot)) ** pot == n\n",
        "\n",
        "def potencias_fibonacci(n,pot=2):\n",
        "    fibs = []\n",
        "    a, b = 0, 1\n",
        "    while a < n:\n",
        "        if es_potencia(a,pot):\n",
        "            fibs.append(a)\n",
        "        a, b = b, a+b\n",
        "    return fibs\n",
        "\n",
        "potencias_fibonacci(10**20,2)"
      ],
      "metadata": {
        "colab": {
          "base_uri": "https://localhost:8080/"
        },
        "id": "95ruUjDxIy7c",
        "outputId": "b43d873e-7fdc-4010-e1f6-823b55cdbfe2"
      },
      "execution_count": 6,
      "outputs": [
        {
          "output_type": "execute_result",
          "data": {
            "text/plain": [
              "[0, 1, 1, 144]"
            ]
          },
          "metadata": {},
          "execution_count": 6
        }
      ]
    },
    {
      "cell_type": "markdown",
      "source": [
        "¿Qué números de Fibonacci menores que 10^20 son cubos perfectos? El siguiente código nos ayuda a encontrar estos números de manera experimental"
      ],
      "metadata": {
        "id": "DZDS5DFuK1Zo"
      }
    },
    {
      "cell_type": "markdown",
      "source": [
        "En el siguiente link encontrará la prueba de que los únicos números de Fibonacci que son cuadrados perfectos son 0,1,144\n",
        "https://annals.math.princeton.edu/wp-content/uploads/annals-v163-n3-p05.pdf"
      ],
      "metadata": {
        "id": "wgq8P3BTI0x4"
      }
    }
  ]
}