{
  "nbformat": 4,
  "nbformat_minor": 0,
  "metadata": {
    "colab": {
      "provenance": [],
      "authorship_tag": "ABX9TyPmFSGEy0umG1cGDMC61KE/",
      "include_colab_link": true
    },
    "kernelspec": {
      "name": "python3",
      "display_name": "Python 3"
    },
    "language_info": {
      "name": "python"
    }
  },
  "cells": [
    {
      "cell_type": "markdown",
      "metadata": {
        "id": "view-in-github",
        "colab_type": "text"
      },
      "source": [
        "<a href=\"https://colab.research.google.com/github/brenda31416/Curso-de-Python/blob/main/2023_08_30_Subset_problem.ipynb\" target=\"_parent\"><img src=\"https://colab.research.google.com/assets/colab-badge.svg\" alt=\"Open In Colab\"/></a>"
      ]
    },
    {
      "cell_type": "markdown",
      "source": [
        "#[Subset sum problem](https://towardsdatascience.com/how-to-find-all-solutions-to-the-subset-sum-problem-597f77677e45)\n",
        " Vamos a definir una función tal que, dados argumentos: cantidad y rango (dos enteros positivos), regresa un conjunto con cantidad números enteros aleatorios, que pueden estar entre -rango y rango"
      ],
      "metadata": {
        "id": "VM_d9BqUDd5z"
      }
    },
    {
      "cell_type": "code",
      "source": [
        "from random import randint\n",
        "\n",
        "def crea_conjunto(cantidad, rango):\n",
        "    \"\"\"Función que crea un conjunto con cantidad de enteros aleatorios entre -rango y rango\"\"\"\n",
        "    conjunto ={randint(-rango, rango) for i in range(cantidad)}\n",
        "    return conjunto\n",
        "\n",
        "A = crea_conjunto(10, 100)\n",
        "A"
      ],
      "metadata": {
        "colab": {
          "base_uri": "https://localhost:8080/"
        },
        "id": "PYx4YJanD6Wn",
        "outputId": "022a469c-d537-4ceb-c68e-8dde6d12f306"
      },
      "execution_count": null,
      "outputs": [
        {
          "output_type": "execute_result",
          "data": {
            "text/plain": [
              "{-54, -49, -13, -11, -6, -2, 24, 85, 98}"
            ]
          },
          "metadata": {},
          "execution_count": 70
        }
      ]
    },
    {
      "cell_type": "markdown",
      "source": [
        "Vamosa definir una función tal que, dado un conjunto de números enteros, regrese un subconjunto del conjunto tal que la suma de los elementos del subconjunto sea 0. Si no existe tal conjunto, la función regresa False."
      ],
      "metadata": {
        "id": "Vno3mnK4JRRQ"
      }
    },
    {
      "cell_type": "code",
      "source": [
        "from itertools import combinations\n",
        "\n",
        "def todos_subconjuntos(conjunto):\n",
        "    \"\"\"Función que crea el conjunto potencia del conjunto\"\"\"\n",
        "        todos = []\n",
        "        for i in range(1, len(conjunto)+1):\n",
        "            for subconjunto in combinations(conjunto, i):\n",
        "                todos.append(set(subconjunto))\n",
        "        return todos\n",
        "\n",
        "def extrae_subconjunto(conjunto):\n",
        "    C = todos_subconjuntos(conjunto)\n",
        "    for sub in C:\n",
        "        if sum(sub) == 0:\n",
        "            return sub\n",
        "    return False\n",
        "\n",
        "extrae_subconjunto(A)\n"
      ],
      "metadata": {
        "colab": {
          "base_uri": "https://localhost:8080/"
        },
        "id": "eJVUJGQrI9c0",
        "outputId": "73b10ce5-25cd-4cfe-9aa6-0e48c2db4015"
      },
      "execution_count": null,
      "outputs": [
        {
          "output_type": "execute_result",
          "data": {
            "text/plain": [
              "{-87, 3, 84}"
            ]
          },
          "metadata": {},
          "execution_count": 69
        }
      ]
    }
  ]
}